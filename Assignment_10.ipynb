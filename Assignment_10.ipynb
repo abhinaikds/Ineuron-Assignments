{
 "cells": [
  {
   "cell_type": "code",
   "execution_count": null,
   "id": "7e7aa195",
   "metadata": {},
   "outputs": [],
   "source": [
    "#1. What is the role of try and exception block?\n",
    "Try is where you write an entire suspesious code where you feel that it can show run time error\n",
    "exception block is if the block where how the run time error is handled."
   ]
  },
  {
   "cell_type": "code",
   "execution_count": 5,
   "id": "ddba2fe1",
   "metadata": {},
   "outputs": [
    {
     "name": "stdout",
     "output_type": "stream",
     "text": [
      "enter first number10\n",
      "enter second number0\n",
      "enter non zero denominator\n"
     ]
    }
   ],
   "source": [
    "#2. What is the syntax for a basic try-except block?\n",
    "a=int(input(\"enter first number\"))\n",
    "b=int(input(\"enter second number\"))\n",
    "try:\n",
    "    c=a/b\n",
    "    print(c)\n",
    "except :\n",
    "    print(\"enter non zero denominator\")"
   ]
  },
  {
   "cell_type": "code",
   "execution_count": 6,
   "id": "6a59140a",
   "metadata": {},
   "outputs": [],
   "source": [
    "#3. What happens if an exception occurs inside a try block and there is no matching except block?\n",
    "#During handling of the above exception, another exception occurred and name error is also shown"
   ]
  },
  {
   "cell_type": "code",
   "execution_count": 7,
   "id": "fcebd7d9",
   "metadata": {},
   "outputs": [],
   "source": [
    "#4. What is the difference between using a bare except block and specifying a specific exception type?\n",
    "#1.writing with specific exception type gives the reader of the code to understand for which error the developer has written a code.\n",
    "#2.writing with specific exception type gives the advantage of writing specific message for specific error. \n",
    "#3.bare except will catch all exceptions derived from the base Exception class, whether they are system-defined or user-defined."
   ]
  },
  {
   "cell_type": "code",
   "execution_count": 9,
   "id": "7fc73897",
   "metadata": {},
   "outputs": [],
   "source": [
    "#5. Can you have nested try-except blocks in Python? If yes, then give an example.\n",
    "#yes,\n",
    "def divide_numbers(a, b):\n",
    "    try:\n",
    "        # Outer try block\n",
    "        result = a / b\n",
    "\n",
    "        try:\n",
    "            # Inner try block\n",
    "            list_of_numbers = [1, 2, 3]\n",
    "            print(list_of_numbers[int(result)])  # Trying to access an index based on the result of the division\n",
    "        except IndexError:\n",
    "            print(\"Result of division does not correspond to a valid index in the list!\")\n",
    "\n",
    "    except ZeroDivisionError:\n",
    "        print(\"Cannot divide by zero!\")\n",
    "\n",
    "    except Exception as e:\n",
    "        print(f\"An unexpected error occurred: {e}\")"
   ]
  },
  {
   "cell_type": "code",
   "execution_count": 4,
   "id": "1dff0403",
   "metadata": {},
   "outputs": [
    {
     "name": "stdout",
     "output_type": "stream",
     "text": [
      "enter first value0\n",
      "enter second valueawe0\n",
      "pls enter integer only\n"
     ]
    }
   ],
   "source": [
    "#6. Can we use multiple exception blocks, if yes then give an example.\n",
    "#yes\n",
    "try:\n",
    "    a=int(input(\"enter first value\"))\n",
    "    b=int(input(\"enter second value\"))\n",
    "    c=a/b\n",
    "    print(c)\n",
    "except ValueError :\n",
    "    print(\"pls enter integer only\")\n",
    "except ZeroDivisionError :\n",
    "    print(\"pls enter non zero value\")    "
   ]
  },
  {
   "cell_type": "code",
   "execution_count": null,
   "id": "862bf03a",
   "metadata": {},
   "outputs": [],
   "source": [
    "#7. Write the reason due to which following errors are raised:\n",
    "#a. EOFError-Raised when the input() function reaches an end-of-file condition (EOF) without reading any data.\n",
    "\n",
    "#b. FloatingPointError-Instead, it's used in scenarios where floating-point exceptions are explicitly checked for,\n",
    "#                      which is rare and typically done using specific libraries or tools that modify the default behavior.\n",
    "\n",
    "#c. IndexError- Raised when trying to access an index which is out of the bounds of a sequence, like a list or tuple. \n",
    "#               For example, trying to access the 5th element of a 3-element list will raise this error.\n",
    "\n",
    "#d. MemoryError-ised when an operation runs out of memory. This is more common in scenarios with limited memory availability or when handling very large datasets. \n",
    "#               It indicates that the interpreter couldn't allocate new memory \n",
    "\n",
    "#e. OverflowError- Raised when an arithmetic operation exceeds the limits of the current Python environment.\n",
    "#f. TabError - Raised when indentation contains inconsistent use of tabs and spaces. This is specific to Python 3\n",
    "#g. ValueError-Raised when a function or operation receives an argument of the correct type but with an inappropriate value."
   ]
  },
  {
   "cell_type": "code",
   "execution_count": 5,
   "id": "c99a14d0",
   "metadata": {},
   "outputs": [],
   "source": [
    "#8. Write code for the following given scenario and add try-exception block to it.\n",
    "#a. Program to divide two numbers\n",
    "#b. Program to convert a string to an integer\n",
    "#c. Program to access an element in a list\n",
    "#d. Program to handle a specific exception\n",
    "#e. Program to handle any exception\n"
   ]
  },
  {
   "cell_type": "code",
   "execution_count": null,
   "id": "bb66a529",
   "metadata": {},
   "outputs": [],
   "source": [
    "#a\n",
    "a=int(input(\"enter first number\"))\n",
    "b=int(input(\"enter second number\"))\n",
    "try:\n",
    "    c=a/b\n",
    "    print(c)\n",
    "except :\n",
    "    print(\"enter non zero denominator\")    "
   ]
  },
  {
   "cell_type": "code",
   "execution_count": null,
   "id": "898cbdb9",
   "metadata": {},
   "outputs": [
    {
     "name": "stdout",
     "output_type": "stream",
     "text": [
      "enter first numbersdfsdf\n",
      "enter number\n"
     ]
    }
   ],
   "source": [
    "#b\n",
    "while True:\n",
    "    try:\n",
    "        a=int(input(\"enter first number\"))\n",
    "        b=int(input(\"enter second number\"))\n",
    "        print(f'the string is succesfully converetd to int')\n",
    "        break\n",
    "    except ValueError:\n",
    "        print(\"enter number\")\n",
    "        continue"
   ]
  },
  {
   "cell_type": "code",
   "execution_count": 2,
   "id": "e18527be",
   "metadata": {},
   "outputs": [],
   "source": [
    "#c\n",
    "def myfunc():\n",
    "    try:\n",
    "        list1 = [int(x) for x in input(\"Enter elements in list separated by spaces: \").split()]\n",
    "        element=int(input(\"enter the index of element to extract\"))\n",
    "        if element < 0:\n",
    "            raise Exception(\"please enter a valid number\")\n",
    "        print(list1[element])\n",
    "    except ValueError:\n",
    "        print(\"please enter integer only\")\n",
    "    \n",
    "    "
   ]
  },
  {
   "cell_type": "code",
   "execution_count": null,
   "id": "87d2e691",
   "metadata": {},
   "outputs": [],
   "source": [
    "#d\n",
    "while True:\n",
    "    try:\n",
    "        a=int(input(\"enter first number\"))\n",
    "        b=int(input(\"enter second number\"))\n",
    "        print(f'the string is succesfully converetd to int')\n",
    "        break\n",
    "    except ValueError:\n",
    "        print(\"enter number\")\n",
    "        continue"
   ]
  },
  {
   "cell_type": "code",
   "execution_count": 11,
   "id": "c8ee3db4",
   "metadata": {},
   "outputs": [
    {
     "name": "stdout",
     "output_type": "stream",
     "text": [
      "enter first numbersdfs\n",
      "invalid literal for int() with base 10: 'sdfs'\n"
     ]
    }
   ],
   "source": [
    "#e\n",
    "try:\n",
    "    a=int(input(\"enter first number\"))\n",
    "    b=int(input(\"enter second number\"))\n",
    "    c=a/b\n",
    "    print(c)\n",
    "except Exception as e:\n",
    "    print(e)  \n"
   ]
  },
  {
   "cell_type": "code",
   "execution_count": null,
   "id": "214dd61e",
   "metadata": {},
   "outputs": [],
   "source": []
  }
 ],
 "metadata": {
  "kernelspec": {
   "display_name": "Python 3 (ipykernel)",
   "language": "python",
   "name": "python3"
  },
  "language_info": {
   "codemirror_mode": {
    "name": "ipython",
    "version": 3
   },
   "file_extension": ".py",
   "mimetype": "text/x-python",
   "name": "python",
   "nbconvert_exporter": "python",
   "pygments_lexer": "ipython3",
   "version": "3.10.9"
  }
 },
 "nbformat": 4,
 "nbformat_minor": 5
}
