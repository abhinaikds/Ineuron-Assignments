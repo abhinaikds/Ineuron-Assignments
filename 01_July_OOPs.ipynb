{
 "cells": [
  {
   "cell_type": "code",
   "execution_count": 1,
   "id": "44b91d21",
   "metadata": {},
   "outputs": [],
   "source": [
    "# 1. What is the primary goal of Object-Oriented Programming (OOP)?\n",
    "#  it gives modularity, scalability, maintainable, and understandable"
   ]
  },
  {
   "cell_type": "code",
   "execution_count": 2,
   "id": "398f2a6b",
   "metadata": {},
   "outputs": [],
   "source": [
    "# 2. What is an object in Python?\n",
    "# object is also called instace of a class which will have the properties of a class meaning \n",
    "# if car is a class, red maruti swift is a object from car class"
   ]
  },
  {
   "cell_type": "code",
   "execution_count": 3,
   "id": "aa1f9997",
   "metadata": {},
   "outputs": [],
   "source": [
    "# 3. What is a class in Python?\n",
    "#   class is also called as blueprint of object which has the attributes and methods."
   ]
  },
  {
   "cell_type": "code",
   "execution_count": 4,
   "id": "fba814bd",
   "metadata": {},
   "outputs": [],
   "source": [
    "# 4. What are attributes and methods in a class?\n",
    "#     attributes are the parameters entered while creating a class for eg: if Car is a class then color, make,\n",
    "#     model can be the attributes, so that based on attributes objects are built\n",
    "\n",
    "#     methods are functions defined within a class and are used to define the behaviors of objects created from that class\n",
    "    "
   ]
  },
  {
   "cell_type": "code",
   "execution_count": 5,
   "id": "165429c3",
   "metadata": {},
   "outputs": [],
   "source": [
    "#5. What is the difference between class variables and instance variables in Python?\n",
    "# class variables are shared by all instance of class\n",
    "# instance variables are shared only by that perticular instance"
   ]
  },
  {
   "cell_type": "code",
   "execution_count": 1,
   "id": "38a5265b",
   "metadata": {},
   "outputs": [],
   "source": [
    "#6. What is the purpose of the self parameter in Python class methods?\n",
    "#self is refering current instance variable of that class"
   ]
  },
  {
   "cell_type": "code",
   "execution_count": null,
   "id": "708d7186",
   "metadata": {},
   "outputs": [],
   "source": [
    "\"\"\"7. For a library management system, you have to design the \"Book\" class with OOP\n",
    "principles in mind. The “Book” class will have following attributes:\n",
    "a. title: Represents the title of the book.\n",
    "b. author: Represents the author(s) of the book.\n",
    "c. isbn: Represents the ISBN (International Standard Book Number) of the book.\n",
    "d. publication_year: Represents the year of publication of the book.\n",
    "e. available_copies: Represents the number of copies available for checkout.\n",
    "The class will also include the following methods:\n",
    "a. check_out(self): Decrements the available copies by one if there are copies\n",
    "available for checkout.\n",
    "b. return_book(self): Increments the available copies by one when a book is\n",
    "returned.\n",
    "c. display_book_info(self): Displays the information about the book, including its\n",
    "attributes and the number of available copies\"\"\""
   ]
  },
  {
   "cell_type": "code",
   "execution_count": 123,
   "id": "636ab127",
   "metadata": {},
   "outputs": [],
   "source": [
    "class Book:\n",
    "    def __init__(self,title,author,isbn,publication_year,available_copies):\n",
    "        self.title=title\n",
    "        self.author=author\n",
    "        self.isbn=isbn\n",
    "        self.publication_year=publication_year\n",
    "        self.available_copies=available_copies\n",
    "    \n",
    "    def check_out(self):\n",
    "        if self.available_copies > 0:\n",
    "            self.available_copies=self.available_copies-1\n",
    "        else:\n",
    "            print(\"book is not available\")\n",
    "            \n",
    "    def return_book(self):\n",
    "            self.available_copies=self.available_copies+1\n",
    "            \n",
    "    def display_book_info(self):\n",
    "        return f'The total copies of book {self.title} available in store is {self.available_copies}'\n",
    "    \n",
    "    \n",
    "    "
   ]
  },
  {
   "cell_type": "code",
   "execution_count": null,
   "id": "5a59b95f",
   "metadata": {},
   "outputs": [],
   "source": [
    "\"\"\"8. For a ticket booking system, you have to design the \"Ticket\" class with OOP\n",
    "principles in mind. The “Ticket” class should have the following attributes:\n",
    "a. ticket_id: Represents the unique identifier for the ticket.\n",
    "b. event_name: Represents the name of the event.\n",
    "c. event_date: Represents the date of the event.\n",
    "d. venue: Represents the venue of the event.\n",
    "e. seat_number: Represents the seat number associated with the ticket.\n",
    "f. price: Represents the price of the ticket.\n",
    "g. is_reserved: Represents the reservation status of the ticket.\n",
    "The class also includes the following methods:\n",
    "a. reserve_ticket(self): Marks the ticket as reserved if it is not already reserved.\n",
    "b. cancel_reservation(self): Cancels the reservation of the ticket if it is already\n",
    "reserved.\n",
    "c. display_ticket_info(self): Displays the information about the ticket, including its\n",
    "attributes and reservation status.\"\"\""
   ]
  },
  {
   "cell_type": "code",
   "execution_count": 124,
   "id": "2e3fb924",
   "metadata": {},
   "outputs": [],
   "source": [
    "class Ticket:\n",
    "    def __init__(self,ticket_id,event_name,event_date,venue,seat_number,price,is_reserved):\n",
    "        self.ticket_id=ticket_id\n",
    "        self.event_name=event_name\n",
    "        self.event_date=event_date\n",
    "        self.venue=venue\n",
    "        self.seat_number=seat_number\n",
    "        self.price=price\n",
    "        self.is_reserved=is_reserved\n",
    "        \n",
    "    def reserve_ticket(self):\n",
    "        if self.is_reserved == 'reserved':\n",
    "            print(\"ticket already reserved\")\n",
    "        elif self.is_reserved == 'unreserved':\n",
    "            self.is_reserved=\"reserved\"\n",
    "            print(\"ticket reserved successfully\")\n",
    "            \n",
    "    def cancel_reservation(self):\n",
    "        if self.is_reserved == 'reserved':\n",
    "            self.is_reserved='unreserved'\n",
    "            print(\"ticket cancelled successfully\")\n",
    "        elif self.is_reserved == 'unreserved':\n",
    "            print(\"first book then cancel\")\n",
    "            \n",
    "    def display_ticket_info(self):\n",
    "        print(f'The reservation status of Ticket with seat number {self.seat_number} is{self.is_reserved}')\n",
    "        "
   ]
  },
  {
   "cell_type": "code",
   "execution_count": 125,
   "id": "b71828ad",
   "metadata": {},
   "outputs": [],
   "source": [
    "ticket1=Ticket(\"sdfsd121\",\"matsyagandha\",\"2020-03-25\",\"mangalore\",\"U25\",5000,\"unreserved\")"
   ]
  },
  {
   "cell_type": "code",
   "execution_count": 126,
   "id": "760c8bc4",
   "metadata": {},
   "outputs": [
    {
     "name": "stdout",
     "output_type": "stream",
     "text": [
      "ticket reserved successfully\n"
     ]
    }
   ],
   "source": [
    "ticket1.reserve_ticket()"
   ]
  },
  {
   "cell_type": "code",
   "execution_count": 127,
   "id": "7c13f054",
   "metadata": {},
   "outputs": [
    {
     "name": "stdout",
     "output_type": "stream",
     "text": [
      "ticket cancelled successfully\n"
     ]
    }
   ],
   "source": [
    "ticket1.cancel_reservation()"
   ]
  },
  {
   "cell_type": "code",
   "execution_count": 128,
   "id": "e7e4923c",
   "metadata": {},
   "outputs": [
    {
     "name": "stdout",
     "output_type": "stream",
     "text": [
      "The reservation status of Ticket with seat number U25 isunreserved\n"
     ]
    }
   ],
   "source": [
    "ticket1.display_ticket_info()"
   ]
  },
  {
   "cell_type": "code",
   "execution_count": null,
   "id": "22609488",
   "metadata": {},
   "outputs": [],
   "source": [
    "\"\"\"9. You are creating a shopping cart for an e-commerce website. Using OOP to model\n",
    "the \"ShoppingCart\" functionality the class should contain following attributes and\n",
    "methods:\n",
    "a. items: Represents the list of items in the shopping cart.\n",
    "The class also includes the following methods:\n",
    "a. add_item(self, item): Adds an item to the shopping cart by appending it to the\n",
    "list of items.\n",
    "b. remove_item(self, item): Removes an item from the shopping cart if it exists in\n",
    "the list.\n",
    "c. view_cart(self): Displays the items currently present in the shopping cart.\n",
    "d. clear_cart(self): Clears all items from the shopping cart by reassigning an\n",
    "empty list to the items attribute.\"\"\""
   ]
  },
  {
   "cell_type": "code",
   "execution_count": 255,
   "id": "477bf6ba",
   "metadata": {},
   "outputs": [],
   "source": [
    "class ShoppingCart:\n",
    "    def __init__(self,items=None):\n",
    "        if items is None:\n",
    "            items=[]\n",
    "            self.items=items\n",
    "        \n",
    "    def add_item(self,item):\n",
    "        self.items.append(item)\n",
    "        \n",
    "    def remove_item(self,item):\n",
    "        if item in self.items:\n",
    "            self.items.remove(item)\n",
    "            print(f'removed {item} successfully')\n",
    "        else:\n",
    "            print('enter valid item')\n",
    "            \n",
    "    def view_cart(self):\n",
    "        print(f'the cart currently has : {self.items}')\n",
    "        \n",
    "    def clear_cart(self):\n",
    "        self.items=self.items.clear()\n",
    "        print(\"The cart is successfully cleared\")\n",
    "        \n",
    "    "
   ]
  },
  {
   "cell_type": "code",
   "execution_count": 256,
   "id": "4e18963a",
   "metadata": {},
   "outputs": [],
   "source": [
    "cart1=ShoppingCart()"
   ]
  },
  {
   "cell_type": "code",
   "execution_count": 267,
   "id": "ce044e91",
   "metadata": {},
   "outputs": [
    {
     "name": "stdout",
     "output_type": "stream",
     "text": [
      "the cart currently has : None\n"
     ]
    }
   ],
   "source": [
    "cart1.view_cart()"
   ]
  },
  {
   "cell_type": "code",
   "execution_count": 262,
   "id": "538b3d4c",
   "metadata": {},
   "outputs": [
    {
     "name": "stdout",
     "output_type": "stream",
     "text": [
      "removed kasjdhbdc successfully\n"
     ]
    }
   ],
   "source": [
    "cart1.remove_item(\"kasjdhbdc\")"
   ]
  },
  {
   "cell_type": "code",
   "execution_count": 264,
   "id": "c1b3eaf6",
   "metadata": {},
   "outputs": [],
   "source": [
    "cart1.add_item(\"ndv\")"
   ]
  },
  {
   "cell_type": "code",
   "execution_count": null,
   "id": "1c81245c",
   "metadata": {},
   "outputs": [],
   "source": [
    "10. Imagine a school management system. You have to design the \"Student\" class using\n",
    "OOP concepts.The “Student” class has the following attributes:\n",
    "a. name: Represents the name of the student.\n",
    "b. age: Represents the age of the student.\n",
    "c. grade: Represents the grade or class of the student.\n",
    "d. student_id: Represents the unique identifier for the student.\n",
    "e. attendance: Represents the attendance record of the student.\n",
    "The class should also include the following methods:\n",
    "a. update_attendance(self, date, status): Updates the attendance record of the\n",
    "student for a given date with the provided status (e.g., present or absent).\n",
    "b. get_attendance(self): Returns the attendance record of the student.\n",
    "c. get_average_attendance(self): Calculates and returns the average\n",
    "attendance percentage of the student based on their attendance record."
   ]
  },
  {
   "cell_type": "code",
   "execution_count": 347,
   "id": "10b03c69",
   "metadata": {},
   "outputs": [],
   "source": [
    "class Student:\n",
    "    def __init__(self, name, age, grade, student_id, attendance=None):\n",
    "        self.name = name\n",
    "        self.age = age\n",
    "        self.grade = grade\n",
    "        self.student_id = student_id\n",
    "        if attendance is None:\n",
    "            attendance = {}\n",
    "        self.attendance = attendance\n",
    "\n",
    "    def update_attendance(self, date, status):\n",
    "        \"\"\"Updates the attendance record for the given date.\"\"\"\n",
    "        if status not in [\"present\", \"absent\"]:\n",
    "            print(\"Invalid attendance status. Please provide either 'present' or 'absent'.\")\n",
    "            return\n",
    "        self.attendance[date] = status\n",
    "\n",
    "    def get_attendance(self):\n",
    "        \"\"\"Returns the total number of days the student was present.\"\"\"\n",
    "        present_days = list(self.attendance.values()).count(\"present\")\n",
    "        print(f' the total attendance of {self.name} is : {present_days}')\n",
    "\n",
    "    def get_average_attendance(self):\n",
    "        \"\"\"Calculates and returns the average attendance percentage.\"\"\"\n",
    "        present_days = list(self.attendance.values()).count(\"present\")\n",
    "        total_days = len(self.attendance)\n",
    "        if total_days == 0:\n",
    "            return 0  # handle the case where there's no attendance record\n",
    "        return (present_days / total_days) * 100"
   ]
  },
  {
   "cell_type": "code",
   "execution_count": 361,
   "id": "a3bedaa8",
   "metadata": {},
   "outputs": [],
   "source": [
    "s1 = Student('Abhi Naik', 30, '12th Grade', 'S12345')"
   ]
  },
  {
   "cell_type": "code",
   "execution_count": 371,
   "id": "02dd73f1",
   "metadata": {},
   "outputs": [],
   "source": [
    "s1.update_attendance('2023-10-01', 'present')"
   ]
  },
  {
   "cell_type": "code",
   "execution_count": 372,
   "id": "bfc1b5e0",
   "metadata": {},
   "outputs": [],
   "source": [
    "s1.update_attendance('2023-10-02', 'absent')"
   ]
  },
  {
   "cell_type": "code",
   "execution_count": 373,
   "id": "c612f714",
   "metadata": {},
   "outputs": [],
   "source": [
    "s1.update_attendance('2023-10-03', 'present')"
   ]
  },
  {
   "cell_type": "code",
   "execution_count": 374,
   "id": "b1df6b4c",
   "metadata": {
    "scrolled": true
   },
   "outputs": [
    {
     "name": "stdout",
     "output_type": "stream",
     "text": [
      " the total attendance of John Doe is : 0\n"
     ]
    }
   ],
   "source": [
    "s1.get_attendance()"
   ]
  },
  {
   "cell_type": "code",
   "execution_count": null,
   "id": "759b2c1f",
   "metadata": {},
   "outputs": [],
   "source": []
  },
  {
   "cell_type": "code",
   "execution_count": null,
   "id": "28cafa92",
   "metadata": {},
   "outputs": [],
   "source": []
  }
 ],
 "metadata": {
  "kernelspec": {
   "display_name": "Python 3 (ipykernel)",
   "language": "python",
   "name": "python3"
  },
  "language_info": {
   "codemirror_mode": {
    "name": "ipython",
    "version": 3
   },
   "file_extension": ".py",
   "mimetype": "text/x-python",
   "name": "python",
   "nbconvert_exporter": "python",
   "pygments_lexer": "ipython3",
   "version": "3.10.9"
  }
 },
 "nbformat": 4,
 "nbformat_minor": 5
}
