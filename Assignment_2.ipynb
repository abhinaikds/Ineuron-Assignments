{
 "cells": [
  {
   "cell_type": "code",
   "execution_count": 1,
   "id": "4591bf2e",
   "metadata": {},
   "outputs": [],
   "source": [
    "1.What are the two values of the Boolean data type? How do you write them?\n",
    "1. True  \n",
    "2. False"
   ]
  },
  {
   "cell_type": "code",
   "execution_count": 2,
   "id": "fb636446",
   "metadata": {},
   "outputs": [],
   "source": [
    "2. What are the three different types of Boolean operators?\n",
    "#2   AND, OR,NOT"
   ]
  },
  {
   "cell_type": "code",
   "execution_count": 4,
   "id": "96211f74",
   "metadata": {},
   "outputs": [],
   "source": [
    "3. Make a list of each Boolean operator's truth tables \n",
    "(i.e. every possible combination of Boolean values for the operator and what it evaluate ).\n",
    "#3 AND\n",
    "# 0 0 0\n",
    "# 0 1 0\n",
    "# 1 0 0\n",
    "# 1 1 1\n",
    "# OR\n",
    "# 0 0 0\n",
    "# 0 1 1\n",
    "# 1 0 1\n",
    "# 1 1 1\n",
    "# NOT\n",
    "# 0 1\n",
    "# 1 0"
   ]
  },
  {
   "cell_type": "code",
   "execution_count": 7,
   "id": "94c380ab",
   "metadata": {},
   "outputs": [],
   "source": [
    "4. What are the values of the following expressions?\n",
    "False,False,True,False,True,True\n"
   ]
  },
  {
   "cell_type": "code",
   "execution_count": 8,
   "id": "a1bcc987",
   "metadata": {},
   "outputs": [],
   "source": [
    "5. What are the six comparison operators?\n",
    "#5 <,>,==,!=,<=,>="
   ]
  },
  {
   "cell_type": "code",
   "execution_count": 9,
   "id": "03eb4e08",
   "metadata": {},
   "outputs": [],
   "source": [
    "6. How do you tell the difference between the equal to and assignment operators?Describe \n",
    "a condition and when you would use one.\n",
    "#6 =,==\n",
    "= will be used to assign\n",
    "== will be used in expression"
   ]
  },
  {
   "cell_type": "code",
   "execution_count": 10,
   "id": "7c58efe8",
   "metadata": {},
   "outputs": [],
   "source": [
    "7. Identify the three blocks in this code:\n",
    "#7 if, if, else"
   ]
  },
  {
   "cell_type": "code",
   "execution_count": 3,
   "id": "c6fe80b0",
   "metadata": {},
   "outputs": [
    {
     "name": "stdout",
     "output_type": "stream",
     "text": [
      "greetings\n"
     ]
    }
   ],
   "source": [
    "#8  Write code that prints Hello if 1 is stored in spam, prints Howdy if 2 is stored in spam,\n",
    "#and prints Greetings! if anything else is stored in spam.\n",
    "spam=768243\n",
    "\n",
    "if spam==1:\n",
    "    print('hello')\n",
    "if spam==2:\n",
    "    print('howdy')\n",
    "else:\n",
    "    print('greetings')"
   ]
  },
  {
   "cell_type": "code",
   "execution_count": null,
   "id": "fea39d06",
   "metadata": {},
   "outputs": [],
   "source": [
    "9.If your programme is stuck in an endless loop, what keys you’ll press?\n",
    "#kernel restart"
   ]
  },
  {
   "cell_type": "code",
   "execution_count": 17,
   "id": "905bc10d",
   "metadata": {},
   "outputs": [],
   "source": [
    "10. How can you tell the difference between break and continue?\n",
    "#break breaks the loop if condition is met\n",
    "#continue continues the loop if condition is met"
   ]
  },
  {
   "cell_type": "code",
   "execution_count": 18,
   "id": "57ce2b36",
   "metadata": {},
   "outputs": [],
   "source": [
    "11. In a for loop, what is the difference between range(10), range(0, 10), and range(0, 10, 1)?\n",
    "# all three same"
   ]
  },
  {
   "cell_type": "code",
   "execution_count": 19,
   "id": "0b298387",
   "metadata": {},
   "outputs": [
    {
     "name": "stdout",
     "output_type": "stream",
     "text": [
      "1\n",
      "2\n",
      "3\n",
      "4\n",
      "5\n",
      "6\n",
      "7\n",
      "8\n",
      "9\n",
      "10\n"
     ]
    }
   ],
   "source": [
    "#12. Write a short program that prints the numbers 1 to 10 using a for loop. Then write an equivalent program that prints the numbers 1 to 10 using a while loop.\n",
    "for i in range(1,11):\n",
    "    print(i)"
   ]
  },
  {
   "cell_type": "code",
   "execution_count": 3,
   "id": "ac417309",
   "metadata": {},
   "outputs": [
    {
     "name": "stdout",
     "output_type": "stream",
     "text": [
      "1\n",
      "2\n",
      "3\n",
      "4\n",
      "5\n",
      "6\n",
      "7\n",
      "8\n",
      "9\n",
      "10\n"
     ]
    }
   ],
   "source": [
    "i = 1\n",
    "while(i<=10):\n",
    "    print(i)\n",
    "    i += 1"
   ]
  },
  {
   "cell_type": "code",
   "execution_count": 4,
   "id": "5e42f398",
   "metadata": {},
   "outputs": [],
   "source": [
    "13. If you had a function named bacon() inside a module named spam, how would you call it after importing spam?\n",
    "spam.bacon()"
   ]
  },
  {
   "cell_type": "code",
   "execution_count": null,
   "id": "f8fdc288",
   "metadata": {},
   "outputs": [],
   "source": []
  }
 ],
 "metadata": {
  "kernelspec": {
   "display_name": "Python 3 (ipykernel)",
   "language": "python",
   "name": "python3"
  },
  "language_info": {
   "codemirror_mode": {
    "name": "ipython",
    "version": 3
   },
   "file_extension": ".py",
   "mimetype": "text/x-python",
   "name": "python",
   "nbconvert_exporter": "python",
   "pygments_lexer": "ipython3",
   "version": "3.10.9"
  }
 },
 "nbformat": 4,
 "nbformat_minor": 5
}
