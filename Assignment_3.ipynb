{
 "cells": [
  {
   "cell_type": "code",
   "execution_count": null,
   "id": "bee215d3",
   "metadata": {},
   "outputs": [],
   "source": [
    "1. Why are functions advantageous to have in your programs?\n",
    "# They reducdes more coding."
   ]
  },
  {
   "cell_type": "code",
   "execution_count": null,
   "id": "3192059f",
   "metadata": {},
   "outputs": [],
   "source": [
    "2. When does the code in a function run: when it's specified or when it's called?\n",
    "when it is called"
   ]
  },
  {
   "cell_type": "code",
   "execution_count": null,
   "id": "7475c5c4",
   "metadata": {},
   "outputs": [],
   "source": [
    "3. What statement creates a function?\n",
    "def function name:"
   ]
  },
  {
   "cell_type": "code",
   "execution_count": null,
   "id": "0bdd36d9",
   "metadata": {},
   "outputs": [],
   "source": [
    "4. What is the difference between a function and a function call?\n",
    "function is a method of creating modular type of code and function call means calling the same function whenever required"
   ]
  },
  {
   "cell_type": "code",
   "execution_count": null,
   "id": "0a2504c6",
   "metadata": {},
   "outputs": [],
   "source": [
    "5. How many global scopes are there in a Python program? How many local scopes?\n",
    "# n no variable we can declare as global scope\n",
    "# n no variable we can declare as local scope"
   ]
  },
  {
   "cell_type": "code",
   "execution_count": null,
   "id": "e69650e9",
   "metadata": {},
   "outputs": [],
   "source": [
    "6. What happens to variables in a local scope when the function call returns?\n",
    "The assigned variable now will not have the value outside function"
   ]
  },
  {
   "cell_type": "code",
   "execution_count": null,
   "id": "87361ab8",
   "metadata": {},
   "outputs": [],
   "source": [
    "7. What is the concept of a return value? Is it possible to have a return value in an expression?\n",
    "return is a keyword which gives the output in certain data type, so we can use the output further.\n",
    "yes we can\n"
   ]
  },
  {
   "cell_type": "code",
   "execution_count": null,
   "id": "45e6e891",
   "metadata": {},
   "outputs": [],
   "source": [
    "8. If a function does not have a return statement, what is the return value of a call to that function?\n",
    "we can use print instead( i did not understand the question)"
   ]
  },
  {
   "cell_type": "code",
   "execution_count": null,
   "id": "6ac11cba",
   "metadata": {},
   "outputs": [],
   "source": [
    "9. How do you make a function variable refer to the global variable?\n",
    "by inserting keyword global then variable name"
   ]
  },
  {
   "cell_type": "code",
   "execution_count": null,
   "id": "3cb3f3b1",
   "metadata": {},
   "outputs": [],
   "source": [
    "10. What is the data type of None?\n",
    "NoneType"
   ]
  },
  {
   "cell_type": "code",
   "execution_count": null,
   "id": "046c1d66",
   "metadata": {},
   "outputs": [],
   "source": [
    "11. What does the sentence import areallyourpetsnamederic do?\n",
    "tries to import areallyourpetsnamederic from installed modules.\n"
   ]
  },
  {
   "cell_type": "code",
   "execution_count": null,
   "id": "37e8a46c",
   "metadata": {},
   "outputs": [],
   "source": [
    "12. If you had a bacon() feature in a spam module, what would you call it after importing spam?\n",
    "spam.bacon()"
   ]
  },
  {
   "cell_type": "code",
   "execution_count": null,
   "id": "4a1b21ed",
   "metadata": {},
   "outputs": [],
   "source": [
    "13. What can you do to save a programme from crashing if it encounters an error?\n",
    "Kernel>Interrupt"
   ]
  },
  {
   "cell_type": "code",
   "execution_count": null,
   "id": "e4b0fb5f",
   "metadata": {},
   "outputs": [],
   "source": [
    "14. What is the purpose of the try clause? What is the purpose of the except clause?\n",
    "The try block lets you test a block of code for errors. The except block lets you handle the error. "
   ]
  }
 ],
 "metadata": {
  "kernelspec": {
   "display_name": "Python 3 (ipykernel)",
   "language": "python",
   "name": "python3"
  },
  "language_info": {
   "codemirror_mode": {
    "name": "ipython",
    "version": 3
   },
   "file_extension": ".py",
   "mimetype": "text/x-python",
   "name": "python",
   "nbconvert_exporter": "python",
   "pygments_lexer": "ipython3",
   "version": "3.10.9"
  }
 },
 "nbformat": 4,
 "nbformat_minor": 5
}
