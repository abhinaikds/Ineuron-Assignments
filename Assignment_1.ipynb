{
 "cells": [
  {
   "cell_type": "code",
   "execution_count": 7,
   "id": "a192bf72",
   "metadata": {},
   "outputs": [],
   "source": [
    "1. In the below elements which of them are values or an expression? eg:- values can be integer or string and expressions \n",
    "    will be mathematical operators.\n",
    "\n",
    "1#values:Hello,-87.8,6\n",
    "#Expressions:*,-,/,+"
   ]
  },
  {
   "cell_type": "code",
   "execution_count": 9,
   "id": "dfea6ce9",
   "metadata": {},
   "outputs": [],
   "source": [
    "2. What is the difference between string and variable?\n",
    "2#Strings- it is a value \n",
    "#Variable-temp location to store that value."
   ]
  },
  {
   "cell_type": "code",
   "execution_count": 12,
   "id": "b6ffeac3",
   "metadata": {},
   "outputs": [],
   "source": [
    "3. Describe three different data types.\n",
    "#3.1.integer\n",
    "#2.string\n",
    "#3.boolian  "
   ]
  },
  {
   "cell_type": "code",
   "execution_count": 13,
   "id": "4c9f2a9e",
   "metadata": {},
   "outputs": [],
   "source": [
    "4. What is an expression made up of? What do all expressions do?\n",
    "#4An expression is a construct made up of variables, operators, and method invocations, which are constructed according to the syntax of \n",
    "#the language, that evaluates to a single value."
   ]
  },
  {
   "cell_type": "code",
   "execution_count": 14,
   "id": "79025416",
   "metadata": {},
   "outputs": [],
   "source": [
    "5. This assignment statements, like spam = 10. What is the difference between an expression and a statement?\n",
    "#5 Expressions are in other words formulas\n",
    "#statements include:if,else,while,for which gives output at the end"
   ]
  },
  {
   "cell_type": "code",
   "execution_count": 15,
   "id": "6a6b3514",
   "metadata": {},
   "outputs": [],
   "source": [
    "6. After running the following code, what does the variable bacon contain?\n",
    "#6 23   "
   ]
  },
  {
   "cell_type": "code",
   "execution_count": 17,
   "id": "6646a9b4",
   "metadata": {},
   "outputs": [],
   "source": [
    "7. What should the values of the following two terms be?\n",
    "# spamspamspam\n",
    "#spamspamspam"
   ]
  },
  {
   "cell_type": "code",
   "execution_count": 22,
   "id": "4b2a4d97",
   "metadata": {},
   "outputs": [],
   "source": [
    "8. Why is eggs a valid variable name while 100 is invalid?\n",
    "#8cannot consider int as varible"
   ]
  },
  {
   "cell_type": "code",
   "execution_count": 25,
   "id": "4e350d30",
   "metadata": {},
   "outputs": [],
   "source": [
    "9. What three functions can be used to get the integer, floating-point number\n",
    " or string version of a value?\n",
    "#9 int(), str(), float()"
   ]
  },
  {
   "cell_type": "code",
   "execution_count": null,
   "id": "37b8f96a",
   "metadata": {},
   "outputs": [],
   "source": [
    "10. Why does this expression cause an error? How can you fix it?\n",
    "'I have eaten ' + 99 + ' burritos.'\n",
    "#10 cannot concat str with int, by adding single inverterd comma to 99\n"
   ]
  },
  {
   "cell_type": "code",
   "execution_count": null,
   "id": "e06a6353",
   "metadata": {},
   "outputs": [],
   "source": []
  }
 ],
 "metadata": {
  "kernelspec": {
   "display_name": "Python 3 (ipykernel)",
   "language": "python",
   "name": "python3"
  },
  "language_info": {
   "codemirror_mode": {
    "name": "ipython",
    "version": 3
   },
   "file_extension": ".py",
   "mimetype": "text/x-python",
   "name": "python",
   "nbconvert_exporter": "python",
   "pygments_lexer": "ipython3",
   "version": "3.10.9"
  }
 },
 "nbformat": 4,
 "nbformat_minor": 5
}
