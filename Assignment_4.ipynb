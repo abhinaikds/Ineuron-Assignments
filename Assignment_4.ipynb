{
 "cells": [
  {
   "cell_type": "code",
   "execution_count": null,
   "id": "121236bf",
   "metadata": {},
   "outputs": [],
   "source": [
    "1. What exactly is []?\n",
    "Empty list"
   ]
  },
  {
   "cell_type": "code",
   "execution_count": null,
   "id": "a8ded6fc",
   "metadata": {},
   "outputs": [],
   "source": [
    "2. In a list of values stored in a variable called spam, how would you assign the value 'hello' as the third value? (Assume [2, 4, 6, 8, 10] are in spam.)\n",
    "spam[2]='hello'"
   ]
  },
  {
   "cell_type": "code",
   "execution_count": 4,
   "id": "5e454403",
   "metadata": {},
   "outputs": [],
   "source": [
    "3. What is the value of spam[int(int('3' * 2) / 11)]?\n",
    "'d'"
   ]
  },
  {
   "cell_type": "code",
   "execution_count": null,
   "id": "346e7aea",
   "metadata": {},
   "outputs": [],
   "source": [
    "4. What is the value of spam[-1]?\n",
    "\"d\""
   ]
  },
  {
   "cell_type": "code",
   "execution_count": null,
   "id": "419a5f2b",
   "metadata": {},
   "outputs": [],
   "source": [
    "5. What is the value of spam[:2]?\n",
    "['a', 'b']"
   ]
  },
  {
   "cell_type": "code",
   "execution_count": null,
   "id": "19276124",
   "metadata": {},
   "outputs": [],
   "source": [
    "6. What is the value of bacon.index('cat')?\n",
    "1"
   ]
  },
  {
   "cell_type": "code",
   "execution_count": null,
   "id": "acfe04df",
   "metadata": {},
   "outputs": [],
   "source": [
    "7. How does bacon.append(99) change the look of the list value in bacon?\n",
    "[3.14, 'cat', 11, 'cat', True, 99]"
   ]
  },
  {
   "cell_type": "code",
   "execution_count": 23,
   "id": "0ec52fed",
   "metadata": {},
   "outputs": [],
   "source": [
    "bacon= [3.14, 'cat', 11, 'cat', True] "
   ]
  },
  {
   "cell_type": "code",
   "execution_count": 24,
   "id": "e408bf06",
   "metadata": {},
   "outputs": [],
   "source": [
    "8. How does bacon.remove('cat') change the look of the list in bacon?\n",
    "[3.14, 11, 'cat', True, 99]"
   ]
  },
  {
   "cell_type": "code",
   "execution_count": 26,
   "id": "2b14c840",
   "metadata": {},
   "outputs": [],
   "source": [
    "9. What are the list concatenation and list replication operators?\n",
    "list concatination uses + sign to merge two lists\n",
    "list replication uses * sign to replicate the same items in list."
   ]
  },
  {
   "cell_type": "code",
   "execution_count": null,
   "id": "339b2525",
   "metadata": {},
   "outputs": [],
   "source": [
    "10.What is difference between the list methods append() and insert()?\n",
    "append adds the item at the end of the list.\n",
    "insert can add the item in any index postion."
   ]
  },
  {
   "cell_type": "code",
   "execution_count": null,
   "id": "93dc7e9c",
   "metadata": {},
   "outputs": [],
   "source": [
    "11. What are the two methods for removing items from a list?\n",
    "1.clear() to erase all\n",
    "2.can use remove() to clear any value in list\n",
    "3 .pop() to clear any value of list"
   ]
  },
  {
   "cell_type": "code",
   "execution_count": null,
   "id": "eb2ee5c1",
   "metadata": {},
   "outputs": [],
   "source": [
    "12. Describe how list values and string values are identical.\n",
    "both are iterables"
   ]
  },
  {
   "cell_type": "code",
   "execution_count": null,
   "id": "c36f4084",
   "metadata": {},
   "outputs": [],
   "source": [
    "13. What's the difference between tuples and lists?\n",
    "tuple are immutable compared to lists"
   ]
  },
  {
   "cell_type": "code",
   "execution_count": null,
   "id": "01b953f2",
   "metadata": {},
   "outputs": [],
   "source": [
    "14. How do you type a tuple value that only contains the integer 42?\n",
    "tuple=(42)"
   ]
  },
  {
   "cell_type": "code",
   "execution_count": null,
   "id": "adcffdba",
   "metadata": {},
   "outputs": [],
   "source": [
    "15. How do you get a list value's tuple form? How do you get a tuple value's list form?\n",
    "By typecasting"
   ]
  },
  {
   "cell_type": "code",
   "execution_count": 96,
   "id": "905357f6",
   "metadata": {},
   "outputs": [],
   "source": [
    "16. Variables that \"contain\" list values are not necessarily lists themselves. Instead, what do they contain?\n",
    "Variables will contain references to list values"
   ]
  },
  {
   "cell_type": "code",
   "execution_count": null,
   "id": "08cb6d4f",
   "metadata": {},
   "outputs": [],
   "source": [
    "17. How do you distinguish between copy.copy() and copy.deepcopy()?\n",
    "1.Both are imported from copy module.\n",
    "2.both copy.copy() and copy.deepcopy() will not alter the original list if there \n",
    "is any altration in copied list[in case of normal list]\n",
    "3.if there is nested list then shallow copy will alter the original list if we alter the nested list,\n",
    "in this case we need to call deepcopy() inorder to keep the original list unaffected."
   ]
  },
  {
   "cell_type": "code",
   "execution_count": null,
   "id": "e601e6a0",
   "metadata": {},
   "outputs": [],
   "source": []
  },
  {
   "cell_type": "code",
   "execution_count": null,
   "id": "4992dddf",
   "metadata": {},
   "outputs": [],
   "source": []
  }
 ],
 "metadata": {
  "kernelspec": {
   "display_name": "Python 3 (ipykernel)",
   "language": "python",
   "name": "python3"
  },
  "language_info": {
   "codemirror_mode": {
    "name": "ipython",
    "version": 3
   },
   "file_extension": ".py",
   "mimetype": "text/x-python",
   "name": "python",
   "nbconvert_exporter": "python",
   "pygments_lexer": "ipython3",
   "version": "3.10.9"
  }
 },
 "nbformat": 4,
 "nbformat_minor": 5
}
