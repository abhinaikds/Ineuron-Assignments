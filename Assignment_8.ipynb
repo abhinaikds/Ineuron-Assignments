{
 "cells": [
  {
   "cell_type": "code",
   "execution_count": 1,
   "id": "baca0686",
   "metadata": {},
   "outputs": [],
   "source": [
    "#1. In Python, what is the difference between a built-in function and a user-defined function? Provide an\n",
    "#example of each.\n",
    "Built in function are the functions which are already present in the python standard library.where as user defined functions \n",
    "are the functions which are created as run time as needed.\n",
    "Example for Built in function: print(),del(),str(),len()\n",
    "Example for user defined function: \n",
    "    \n",
    "    def add(a,b):\n",
    "        return a+b\n",
    "    \n",
    "    def func_name(a,b):\n",
    "        return a/b\n",
    "        "
   ]
  },
  {
   "cell_type": "code",
   "execution_count": null,
   "id": "2981bc70",
   "metadata": {},
   "outputs": [],
   "source": [
    "2. How can you pass arguments to a function in Python? Explain the difference between positional\n",
    "arguments and keyword arguments.\n",
    "when calling the function we pass arguments.\n",
    "The example for positional arguments and keyword arguments are:\n",
    "def add(a,b):\n",
    "    return a+b\n",
    "when we call the above function if we call as \n",
    "add(2,3)\n",
    "here a,b is positional argument,\n",
    "\n",
    "when we call the above function if we call as \n",
    "add(a=2,b=3)\n",
    "here a,b is keyword arguments"
   ]
  },
  {
   "cell_type": "code",
   "execution_count": 21,
   "id": "55d710b5",
   "metadata": {},
   "outputs": [],
   "source": [
    "3. What is the purpose of the return statement in a function? Can a function have multiple return\n",
    "statements? Explain with an example\n",
    "\n",
    "The features of return statement are:\n",
    "1.return statement is used to get the output and it sends the output to the function when called.\n",
    "2.multiple return statement can be used in function according to the requirement but only one return statement will br executed\n",
    " and once it is executed function will be terminated.\n",
    "3.return can be assigned to any variable once it is called unlike print function which is of none type.\n",
    "4. return statement is used in function and method creation.\n",
    "5.return cannot loop inside function.\n",
    "\n",
    "example for multiple return statement\n",
    "def check_number(num):\n",
    "    if num > 0:\n",
    "        return \"The number is positive.\"\n",
    "    elif num < 0:\n",
    "        return \"The number is negative.\"\n",
    "    else:\n",
    "        return \"The number is zero.\""
   ]
  },
  {
   "cell_type": "code",
   "execution_count": null,
   "id": "dadc4450",
   "metadata": {},
   "outputs": [],
   "source": [
    "4. What are lambda functions in Python? How are they different from regular functions? Provide an\n",
    "example where a lambda function can be useful\n",
    "\n",
    "lambda functions are anonymous functions without name assigned to it.it is a one liner function for simple quick function creation\n",
    "Lambda Functions: Restricted to a single expression. Cannot include statements, assignments, or multiple expressions.\n",
    "Regular Functions: Much more flexible. Can include multiple expressions, statements, loops, and error handling\n",
    "    \n",
    "eg:sum=lambda x,y:x+y"
   ]
  },
  {
   "cell_type": "code",
   "execution_count": null,
   "id": "5d848ee2",
   "metadata": {},
   "outputs": [],
   "source": [
    "5. How does the concept of \"scope\" apply to functions in Python? Explain the difference between local\n",
    "scope and global scope.\n",
    "local variable inside function can only be accessed within function.\n",
    "global variable can be accessed inside the function as well as outside the function, however if we are using same variable \n",
    "inside the function local variable will be considered. "
   ]
  },
  {
   "cell_type": "code",
   "execution_count": null,
   "id": "620cd301",
   "metadata": {},
   "outputs": [],
   "source": [
    "6. How can you use the \"return\" statement in a Python function to return multiple values?\n",
    "he most common approach is using a tuple, as Python automatically packs multiple values into a \n",
    "tuple and can then unpack them upon assignment.\n",
    "def multiple():\n",
    "    t=(1,2,3,34,5,56)\n",
    "    return t"
   ]
  },
  {
   "cell_type": "code",
   "execution_count": null,
   "id": "d300dfb1",
   "metadata": {},
   "outputs": [],
   "source": [
    "7. What is the difference between the \"pass by value\" and \"pass by reference\" concepts when it\n",
    "comes to function arguments in Python?\n",
    "in python if the argument type is immutable then the variable outside function is not altered, \n",
    "while if it is mutable then the variable outside the function wil be replaced with the new value"
   ]
  },
  {
   "cell_type": "code",
   "execution_count": 125,
   "id": "128cad71",
   "metadata": {},
   "outputs": [],
   "source": [
    "#8. Create a function that can intake integer or decimal value and do following operations:\n",
    "#a. Logarithmic function (log x)\n",
    "#b. Exponential function (exp(x))\n",
    "#c. Power function with base 2 (2x)\n",
    "#d. Square root\n",
    "\n",
    "def myfunc(x):\n",
    "    import math\n",
    "    return math.log10(x)\n",
    "\n",
    "def myfunc1(x):\n",
    "    import math\n",
    "    return math.exp(x)\n",
    "\n",
    "def myfunc2(x):\n",
    "    return x**2\n",
    "\n",
    "def myfunc3(x):\n",
    "    import math\n",
    "    return math.sqrt(x)\n"
   ]
  },
  {
   "cell_type": "code",
   "execution_count": null,
   "id": "a1c6e0d2",
   "metadata": {},
   "outputs": [],
   "source": [
    "9. Create a function that takes a full name as an argument and returns first name and last name."
   ]
  },
  {
   "cell_type": "code",
   "execution_count": 146,
   "id": "211a1854",
   "metadata": {},
   "outputs": [],
   "source": [
    "def func4(a):\n",
    "    print(f'The first name is {a.split()[0]} and the last name is {a.split()[1]}')"
   ]
  },
  {
   "cell_type": "code",
   "execution_count": 147,
   "id": "fc83a552",
   "metadata": {},
   "outputs": [
    {
     "name": "stdout",
     "output_type": "stream",
     "text": [
      "The first name is jahsdg and the last name is askjdgh\n"
     ]
    }
   ],
   "source": [
    "func4(\"jahsdg askjdgh\")"
   ]
  }
 ],
 "metadata": {
  "kernelspec": {
   "display_name": "Python 3 (ipykernel)",
   "language": "python",
   "name": "python3"
  },
  "language_info": {
   "codemirror_mode": {
    "name": "ipython",
    "version": 3
   },
   "file_extension": ".py",
   "mimetype": "text/x-python",
   "name": "python",
   "nbconvert_exporter": "python",
   "pygments_lexer": "ipython3",
   "version": "3.10.9"
  }
 },
 "nbformat": 4,
 "nbformat_minor": 5
}
