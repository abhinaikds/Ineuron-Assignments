{
 "cells": [
  {
   "cell_type": "code",
   "execution_count": 11,
   "id": "d5e07c09",
   "metadata": {},
   "outputs": [],
   "source": [
    "#1\n",
    "import keyword\n",
    "l=keyword. kwlist"
   ]
  },
  {
   "cell_type": "code",
   "execution_count": null,
   "id": "e6a7ce30",
   "metadata": {},
   "outputs": [],
   "source": [
    "#2\n",
    "i.  variable should not start with numeric.\n",
    "ii. should not contain special character except _\n",
    "iii.  should not be keywords"
   ]
  },
  {
   "cell_type": "code",
   "execution_count": null,
   "id": "9fc63602",
   "metadata": {},
   "outputs": [],
   "source": [
    "#3\n",
    "Only use lower case while naming a Package or module in Python.\n",
    "Use an underscore as a separator to join multiple words when needed and produce a logical name.\n",
    "Classes in Python subject to a different naming scheme called as CapWords convention.\n",
    "Exception classes should always have trailing word as Error.\n",
    "Global variables must all be in lowercase.\n",
    "The underscore should be used as a separator while forming a variable with multiple words.\n",
    "instance variable names should follow the lowercase convention.\n",
    "Have the underscore as a separator while naming a multi-word instance variable.\n",
    "Every instance method should have ‘self’ as its first argument.\n",
    "All class methods should have ‘cls’ as their first argument.\n",
    "Make only lowercase Method names.\n",
    "An underscore should separate words in a method name.\n",
    "The non-public methods should have a leading underscore.\n",
    "Mangling a method name will require adding two underscores at the beginning.\n",
    "You should be able to identify a Constant just by looking at its name.\n",
    "Hence, they all must be in a fully capitalized format.\n",
    "Words should separate by an underscore to form a long constant name.\n"
   ]
  },
  {
   "cell_type": "code",
   "execution_count": null,
   "id": "7cbf739a",
   "metadata": {},
   "outputs": [],
   "source": [
    "#4\n",
    "SyntaxError: cannot assign to False\n"
   ]
  },
  {
   "cell_type": "code",
   "execution_count": null,
   "id": "1d1dcfdc",
   "metadata": {},
   "outputs": [],
   "source": [
    "#5\n",
    "To create Function"
   ]
  },
  {
   "cell_type": "code",
   "execution_count": null,
   "id": "2f117e05",
   "metadata": {},
   "outputs": [],
   "source": [
    "#6\n",
    "#In Python strings, the backslash \"\\\" is a special character, also called the \"escape\" character. \n",
    "#It is used in representing certain whitespace characters: \"\\t\" is a tab, \"\\n\" is a newline, and \"\\r\" \n",
    "#is a carriage return. Conversely, prefixing a special character with \"\\\" turns it into an\n",
    "#ordinary character."
   ]
  },
  {
   "cell_type": "code",
   "execution_count": null,
   "id": "f855086e",
   "metadata": {},
   "outputs": [],
   "source": [
    "#7\n",
    "Homogeneous list- if all the items in list is of same data type, then it is called homogeneous list\n",
    "Heterogeneous set-if there are more than 1 type of data type in set, then it is called Heterogeneous set\n",
    "Ex; some are numerical some are categorical\n",
    "Homogeneous tuple-tuple with same data type elements."
   ]
  },
  {
   "cell_type": "code",
   "execution_count": null,
   "id": "919edc5e",
   "metadata": {},
   "outputs": [],
   "source": [
    "#8\n",
    "Mutable Data Types- A mutable object can be changed after it is created\n",
    "examples : List, Set, Dictionary\n",
    "immutable Data Types :An immutable object cannot be changed after it is created\n",
    "examples : Tuple    "
   ]
  },
  {
   "cell_type": "code",
   "execution_count": 78,
   "id": "3fd73ba1",
   "metadata": {},
   "outputs": [
    {
     "name": "stdout",
     "output_type": "stream",
     "text": [
      "    *\n",
      "   ***\n",
      "  *****\n",
      " *******\n"
     ]
    }
   ],
   "source": [
    "#9\n",
    "rows=5\n",
    "for i in range(4):\n",
    "    print(' ' * (rows - i - 1) + '*' * (2 * i + 1))  "
   ]
  },
  {
   "cell_type": "code",
   "execution_count": 86,
   "id": "d06f71ea",
   "metadata": {},
   "outputs": [
    {
     "name": "stdout",
     "output_type": "stream",
     "text": [
      "||||||\n",
      " |||||\n",
      "  ||||\n",
      "   |||\n",
      "    ||\n",
      "     |\n"
     ]
    }
   ],
   "source": [
    "#10\n",
    "i = 0\n",
    "while i < rows:\n",
    "    print(' ' * i + '|' * (rows - i))\n",
    "    i += 1"
   ]
  },
  {
   "cell_type": "code",
   "execution_count": null,
   "id": "464a0c4b",
   "metadata": {},
   "outputs": [],
   "source": []
  }
 ],
 "metadata": {
  "kernelspec": {
   "display_name": "Python 3 (ipykernel)",
   "language": "python",
   "name": "python3"
  },
  "language_info": {
   "codemirror_mode": {
    "name": "ipython",
    "version": 3
   },
   "file_extension": ".py",
   "mimetype": "text/x-python",
   "name": "python",
   "nbconvert_exporter": "python",
   "pygments_lexer": "ipython3",
   "version": "3.10.9"
  }
 },
 "nbformat": 4,
 "nbformat_minor": 5
}
