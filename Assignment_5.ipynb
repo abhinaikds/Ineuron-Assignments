{
 "cells": [
  {
   "cell_type": "code",
   "execution_count": null,
   "id": "11e07a6f",
   "metadata": {},
   "outputs": [],
   "source": [
    "1. What does an empty dictionary's code look like?\n",
    "d={}"
   ]
  },
  {
   "cell_type": "code",
   "execution_count": null,
   "id": "47d1b193",
   "metadata": {},
   "outputs": [],
   "source": [
    "2. What is the value of a dictionary value with the key 'foo' and the value 42?\n",
    "42"
   ]
  },
  {
   "cell_type": "code",
   "execution_count": null,
   "id": "3f43a064",
   "metadata": {},
   "outputs": [],
   "source": [
    "3. What is the most significant distinction between a dictionary and a list?\n",
    "dict stores data in key and value pair, \n",
    "list stores data in the form of sequence,"
   ]
  },
  {
   "cell_type": "code",
   "execution_count": null,
   "id": "e3e4ea4c",
   "metadata": {},
   "outputs": [],
   "source": [
    "4. What happens if you try to access spam['foo'] if spam is {'bar': 100}?\n",
    "KeyError"
   ]
  },
  {
   "cell_type": "code",
   "execution_count": null,
   "id": "16c3a44c",
   "metadata": {},
   "outputs": [],
   "source": [
    "5. If a dictionary is stored in spam, what is the difference between the expressions 'cat' in spam and 'cat' in spam.keys()?\n",
    "both are same\n"
   ]
  },
  {
   "cell_type": "code",
   "execution_count": null,
   "id": "5a307073",
   "metadata": {},
   "outputs": [],
   "source": [
    "6. If a dictionary is stored in spam, what is the difference between the expressions 'cat' in spam and 'cat' in spam.values()?\n",
    "in first case 'cat' is searched in keys, in second case 'cat is searched in values'"
   ]
  },
  {
   "cell_type": "code",
   "execution_count": null,
   "id": "655664ff",
   "metadata": {},
   "outputs": [],
   "source": [
    "7 What is a shortcut for the following code?\n",
    "if 'color' not in spam:\n",
    "spam['color'] = 'black'\n",
    "\n",
    "spam.update({'color':'black'})\n"
   ]
  },
  {
   "cell_type": "code",
   "execution_count": null,
   "id": "7721a02c",
   "metadata": {},
   "outputs": [],
   "source": [
    "8. How do you \"pretty print\" dictionary values using which module and function?\n",
    "from pprint import pprint\n",
    "pprint(data)"
   ]
  }
 ],
 "metadata": {
  "kernelspec": {
   "display_name": "Python 3 (ipykernel)",
   "language": "python",
   "name": "python3"
  },
  "language_info": {
   "codemirror_mode": {
    "name": "ipython",
    "version": 3
   },
   "file_extension": ".py",
   "mimetype": "text/x-python",
   "name": "python",
   "nbconvert_exporter": "python",
   "pygments_lexer": "ipython3",
   "version": "3.10.9"
  }
 },
 "nbformat": 4,
 "nbformat_minor": 5
}
