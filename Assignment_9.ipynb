{
 "cells": [
  {
   "cell_type": "code",
   "execution_count": null,
   "id": "86076706",
   "metadata": {},
   "outputs": [],
   "source": [
    "1. What is a lambda function in Python, and how does it differ from a regular function?\n",
    "lambda functions are anonymous functions without name assigned to it.it is a one liner function for simple quick function creation\n",
    "Lambda Functions: Restricted to a single expression. Cannot include statements, assignments, or multiple expressions.\n",
    "Regular Functions: Much more flexible. Can include multiple expressions, statements, loops, and error handling"
   ]
  },
  {
   "cell_type": "code",
   "execution_count": null,
   "id": "533264f5",
   "metadata": {},
   "outputs": [],
   "source": [
    "2. Can a lambda function in Python have multiple arguments? If yes, how can you define and use\n",
    "them?\n",
    "yes, we can have as many arguments as we want, but we can put only one expression, however it is better to put minimal argumants\n",
    "in lambda function for readability.\n",
    "z = lambda x,y:x+y\n",
    "print(z(2,4))"
   ]
  },
  {
   "cell_type": "code",
   "execution_count": null,
   "id": "8d503fd6",
   "metadata": {},
   "outputs": [],
   "source": [
    "3. How are lambda functions typically used in Python? Provide an example use case.\n",
    "eg 1: z = lambda x,y:x+y\n",
    "       print(z(2,4))\n",
    "eg 2: z = lambda *x:sum(x)\n",
    "       print(z(2,4))       \n"
   ]
  },
  {
   "cell_type": "code",
   "execution_count": null,
   "id": "b56a5933",
   "metadata": {},
   "outputs": [],
   "source": [
    "4. What are the advantages and limitations of lambda functions compared to regular functions in\n",
    "Python?\n",
    "advantages:\n",
    "    minimises the code length\n",
    "    it can be used in map(), filter(), and sorted()\n",
    "disadvantage:\n",
    "    difficult to read"
   ]
  },
  {
   "cell_type": "code",
   "execution_count": null,
   "id": "f5e5c54f",
   "metadata": {},
   "outputs": [],
   "source": [
    "5. Are lambda functions in Python able to access variables defined outside of their own scope?\n",
    "Explain with an example.\n",
    "yes\n",
    "l=1\n",
    "k=lambda x:x+l\n",
    "k(65)\n",
    "66"
   ]
  },
  {
   "cell_type": "code",
   "execution_count": null,
   "id": "af5e7771",
   "metadata": {},
   "outputs": [],
   "source": [
    "6. Write a lambda function to calculate the square of a given number\n",
    "f=lambda x:x**2"
   ]
  },
  {
   "cell_type": "code",
   "execution_count": 43,
   "id": "b3eed8c2",
   "metadata": {},
   "outputs": [],
   "source": [
    "#7. Create a lambda function to find the maximum value in a list of integers.\n",
    "g=lambda l: max(l)"
   ]
  },
  {
   "cell_type": "code",
   "execution_count": 78,
   "id": "5297d52e",
   "metadata": {},
   "outputs": [],
   "source": [
    "#8. Implement a lambda function to filter out all the even numbers from a list of integers.\n",
    "f=lambda l : [i for i in l if i%2==0 ]"
   ]
  },
  {
   "cell_type": "code",
   "execution_count": 100,
   "id": "1bf2af3c",
   "metadata": {},
   "outputs": [],
   "source": [
    "#9. Write a lambda function to sort a list of strings in ascending order based on the length of each string.\n",
    "sorted_strings = sorted(k, key=lambda x: len(x))\n",
    "print(sorted_strings)"
   ]
  },
  {
   "cell_type": "code",
   "execution_count": 137,
   "id": "086a25fa",
   "metadata": {},
   "outputs": [],
   "source": [
    "#10. Create a lambda function that takes two lists as input and returns a new list containing the\n",
    "#common elements between the two lists.\n",
    "common_elements = lambda x,y : list(set(x).intersection(set(y)))"
   ]
  },
  {
   "cell_type": "code",
   "execution_count": null,
   "id": "568f6f30",
   "metadata": {},
   "outputs": [],
   "source": [
    "11. Write a recursive function to calculate the factorial of a given positive integer.\n",
    "def myfunc(n):\n",
    "    if n == 0:  \n",
    "        return 1\n",
    "    else:\n",
    "        return n * myfunc(n-1)"
   ]
  },
  {
   "cell_type": "code",
   "execution_count": 162,
   "id": "a02ce6f6",
   "metadata": {},
   "outputs": [],
   "source": [
    "#12. Implement a recursive function to compute the nth Fibonacci number\n",
    "def fibonacci(n):\n",
    "    if n <= 0:\n",
    "        return 0\n",
    "    elif n == 1:\n",
    "        return 1\n",
    "    else:\n",
    "        return fibonacci(n-1) + fibonacci(n-2)"
   ]
  },
  {
   "cell_type": "code",
   "execution_count": 157,
   "id": "e2f75e48",
   "metadata": {},
   "outputs": [],
   "source": [
    "#13. Create a recursive function to find the sum of all the elements in a given list\n",
    "\n",
    "def myfunc2(lst):\n",
    "    if not lst:\n",
    "        return 0\n",
    "    else:\n",
    "        return lst[0] + myfunc2(lst[1:])"
   ]
  },
  {
   "cell_type": "code",
   "execution_count": null,
   "id": "9ae48285",
   "metadata": {},
   "outputs": [],
   "source": [
    "#14. Write a recursive function to determine whether a given string is a palindrome.\n",
    "def is_palindrome(s):\n",
    "    if len(s) <= 1:\n",
    "        return True\n",
    "    if s[0] != s[-1]:\n",
    "        return False\n",
    "    return is_palindrome(s[1:-1])\n",
    "        "
   ]
  },
  {
   "cell_type": "code",
   "execution_count": null,
   "id": "e28dadee",
   "metadata": {},
   "outputs": [],
   "source": [
    "#15. Implement a recursive function to find the greatest common divisor (GCD) of two positive integers.\n",
    "def gcd(a, b):\n",
    "    if b == 0:\n",
    "        return a\n",
    "    return gcd(b, a % b)"
   ]
  }
 ],
 "metadata": {
  "kernelspec": {
   "display_name": "Python 3 (ipykernel)",
   "language": "python",
   "name": "python3"
  },
  "language_info": {
   "codemirror_mode": {
    "name": "ipython",
    "version": 3
   },
   "file_extension": ".py",
   "mimetype": "text/x-python",
   "name": "python",
   "nbconvert_exporter": "python",
   "pygments_lexer": "ipython3",
   "version": "3.10.9"
  }
 },
 "nbformat": 4,
 "nbformat_minor": 5
}
