{
 "cells": [
  {
   "cell_type": "code",
   "execution_count": 5,
   "id": "d305583a",
   "metadata": {},
   "outputs": [
    {
     "name": "stdout",
     "output_type": "stream",
     "text": [
      "first number10\n",
      "second number2\n",
      "5.0\n",
      "12\n"
     ]
    }
   ],
   "source": [
    "#1. What is the role of the 'else' block in a try-except statement? Provide an example scenario where it would be useful.\n",
    "\n",
    "#else block is executed when there is no error in the code or the code runs without going to except block.\n",
    "try:\n",
    "    a=int(input(\"first number\"))\n",
    "    b=int(input(\"second number\"))\n",
    "    c=a/b\n",
    "    print(c)\n",
    "except ValueError :\n",
    "    print(\"enter integer value\")\n",
    "except ZeroDivisionError :\n",
    "    print(\"enter non zero denominator\")\n",
    "else:\n",
    "    s=a+b\n",
    "    print(s)\n"
   ]
  },
  {
   "cell_type": "code",
   "execution_count": null,
   "id": "cdb5ec70",
   "metadata": {},
   "outputs": [],
   "source": [
    "#2. Can a try-except block be nested inside another try-except block? Explain with anexample.\n",
    "#yes,\n",
    "def divide_numbers(a, b):\n",
    "    try:\n",
    "        # Outer try block\n",
    "        result = a / b\n",
    "\n",
    "        try:\n",
    "            # Inner try block\n",
    "            list_of_numbers = [1, 2, 3]\n",
    "            print(list_of_numbers[int(result)])  # Trying to access an index based on the result of the division\n",
    "        except IndexError:\n",
    "            print(\"Result of division does not correspond to a valid index in the list!\")\n",
    "\n",
    "    except ZeroDivisionError:\n",
    "        print(\"Cannot divide by zero!\")\n",
    "\n",
    "    except Exception as e:\n",
    "        print(f\"An unexpected error occurred: {e}\")"
   ]
  },
  {
   "cell_type": "code",
   "execution_count": 23,
   "id": "b07bfd6c",
   "metadata": {},
   "outputs": [],
   "source": [
    "class Custom_error1(Exception):\n",
    "    pass"
   ]
  },
  {
   "cell_type": "code",
   "execution_count": 28,
   "id": "ee842e22",
   "metadata": {},
   "outputs": [
    {
     "name": "stdout",
     "output_type": "stream",
     "text": [
      "Enter elements in list separated by spaces: 544 5 5 5 5\n",
      "enter the index of element to extract-5\n",
      "please enter a valid number\n"
     ]
    }
   ],
   "source": [
    "#3. How can you create a custom exception class in Python? Provide an example that demonstrates its usage.\n",
    "try:\n",
    "    list1 = [int(x) for x in input(\"Enter elements in list separated by spaces: \").split()]\n",
    "    element=int(input(\"enter the index of element to extract\"))\n",
    "    if element < 0:\n",
    "        raise Custom_error1(\"please enter a valid number\")\n",
    "    print(list1[element])\n",
    "except ValueError:\n",
    "    print(\"please enter integer only\")\n",
    "except Custom_error1 as e:\n",
    "    print(e)"
   ]
  },
  {
   "cell_type": "code",
   "execution_count": 29,
   "id": "c836be36",
   "metadata": {},
   "outputs": [],
   "source": [
    "#4. What are some common exceptions that are built-in to Python?\n",
    "#ValueError,TypeError,ZeroDivisionError,OverflowError,FloatingPointError,IndexError,KeyError,IOError,FileNotFoundError"
   ]
  },
  {
   "cell_type": "code",
   "execution_count": null,
   "id": "8f2427cd",
   "metadata": {},
   "outputs": [],
   "source": [
    "#5. What is logging in Python, and why is it important in software development?\n",
    "logging is required to record the events, messages, or diagnostic information in a file\n",
    "it is used in software development for certain reason:\n",
    "User Behavior Analysis,Troubleshooting and Debugging,Monitoring and Alerts,Performance Analysis,Audit Trails,Documentation,Backup,Flexibility"
   ]
  },
  {
   "cell_type": "code",
   "execution_count": null,
   "id": "8cea6dd8",
   "metadata": {},
   "outputs": [],
   "source": [
    "#6. Explain the purpose of log levels in Python logging and provide examples of when each log level would be appropriate.\n",
    "DEBUG:Used for detailed diagnostic information.\n",
    "    logging.debug(\"Value of variable 'x' is %s\", x)\n",
    "INFO:Used to confirm that things are working as expected.\n",
    "    logging.debug(\"Value of variable 'x' is %s\", x)\n",
    "WARNING:Used to indicate something unexpected happened\n",
    "    logging.warning(\"Only 10% disk space remaining\")\n",
    "ERROR:Indicates that a more severe problem occurred, preventing the software from performing a function\n",
    "    logging.error(\"Failed to connect to the database!\")\n",
    "CRITICAL:Denotes an extremely serious problem, suggesting that the program might be unable to continue running.\n",
    "    logging.critical(\"Critical service X failed to start. Shutting down.\")\n"
   ]
  },
  {
   "cell_type": "code",
   "execution_count": null,
   "id": "dec9a0bb",
   "metadata": {},
   "outputs": [],
   "source": [
    "#7. What are log formatters in Python logging, and how can you customise the log message format using formatters?\n",
    "\n",
    "it is a format inwhich the log details are stored\n",
    "formatter = logging.Formatter(<different log formats>)\n",
    "file_handler.setFormatter(formatter)"
   ]
  },
  {
   "cell_type": "code",
   "execution_count": 36,
   "id": "5de228f5",
   "metadata": {},
   "outputs": [],
   "source": [
    "#8. How can you set up logging to capture log messages from multiple modules or classes in a Python application?\n",
    "#a.by creating a seperate log file for every module using the below code\n",
    "import logging\n",
    "\n",
    "# Create a logger\n",
    "logger = logging.getLogger(__name__)\n",
    "logger.setLevel(logging.DEBUG)\n",
    "\n",
    "# Create a file handler\n",
    "file_handler = logging.FileHandler('app.log')\n",
    "file_handler.setLevel(logging.DEBUG)\n",
    "\n",
    "# Create a formatter and add to the file handler\n",
    "formatter = logging.Formatter('%(asctime)s - %(name)s - %(levelname)s - %(message)s')\n",
    "file_handler.setFormatter(formatter)\n",
    "\n",
    "# Add the file handler to the logger\n",
    "logger.addHandler(file_handler)\n",
    "\n",
    "# Log a message\n",
    "logger.info(\"This log message will be written to 'app.log'.\")"
   ]
  },
  {
   "cell_type": "code",
   "execution_count": null,
   "id": "ec354f20",
   "metadata": {},
   "outputs": [],
   "source": [
    "#9. What is the difference between the logging and print statements in Python? When should you use logging over print statements in a real-world application?\n",
    "there are two main advantages to use logging over print\n",
    "1.logging can be saved in a seperate file which has multiple uses like Analysis,Troubleshooting and Debugging,\n",
    "Monitoring and Alerts,Performance Analysis,Audit Trails,Documentation\n",
    "2.we can disable logging in production environment(no need to delete all print statement if we use print instaed of logging)\n",
    "3.print is just used where the ouput should be shown in console.\n",
    "4.Print does not have level."
   ]
  },
  {
   "cell_type": "code",
   "execution_count": null,
   "id": "539f96b7",
   "metadata": {},
   "outputs": [],
   "source": [
    "10. Write a Python program that logs a message to a file named \"app.log\" with the\n",
    "following requirements:\n",
    "● The log message should be \"Hello, World!\"\n",
    "● The log level should be set to \"INFO.\"\n",
    "● The log file should append new log entries without overwriting previous ones."
   ]
  },
  {
   "cell_type": "code",
   "execution_count": 34,
   "id": "c4f7b0fe",
   "metadata": {},
   "outputs": [],
   "source": [
    "import logging\n",
    "\n",
    "logger = logging.getLogger(__name__)\n",
    "logger.setLevel(logging.DEBUG)\n",
    "\n",
    "file_handler = logging.FileHandler('app.log')\n",
    "file_handler.setLevel(logging.INFO)\n",
    "\n",
    "formatter = logging.Formatter('%(asctime)s - %(name)s - %(levelname)s - %(message)s')\n",
    "file_handler.setFormatter(formatter)\n",
    "\n",
    "logger.addHandler(file_handler)\n",
    "\n",
    "logger.info(\"Hello World!\")\n",
    "\n"
   ]
  },
  {
   "cell_type": "code",
   "execution_count": 31,
   "id": "115e660a",
   "metadata": {},
   "outputs": [
    {
     "name": "stderr",
     "output_type": "stream",
     "text": [
      "--- Logging error ---\n",
      "Traceback (most recent call last):\n",
      "  File \"C:\\Users\\yenit\\anaconda3\\lib\\logging\\__init__.py\", line 1103, in emit\n",
      "    stream.write(msg + self.terminator)\n",
      "AttributeError: 'str' object has no attribute 'write'\n",
      "Call stack:\n",
      "  File \"C:\\Users\\yenit\\anaconda3\\lib\\runpy.py\", line 196, in _run_module_as_main\n",
      "    return _run_code(code, main_globals, None,\n",
      "  File \"C:\\Users\\yenit\\anaconda3\\lib\\runpy.py\", line 86, in _run_code\n",
      "    exec(code, run_globals)\n",
      "  File \"C:\\Users\\yenit\\anaconda3\\lib\\site-packages\\ipykernel_launcher.py\", line 17, in <module>\n",
      "    app.launch_new_instance()\n",
      "  File \"C:\\Users\\yenit\\anaconda3\\lib\\site-packages\\traitlets\\config\\application.py\", line 992, in launch_instance\n",
      "    app.start()\n",
      "  File \"C:\\Users\\yenit\\anaconda3\\lib\\site-packages\\ipykernel\\kernelapp.py\", line 711, in start\n",
      "    self.io_loop.start()\n",
      "  File \"C:\\Users\\yenit\\anaconda3\\lib\\site-packages\\tornado\\platform\\asyncio.py\", line 199, in start\n",
      "    self.asyncio_loop.run_forever()\n",
      "  File \"C:\\Users\\yenit\\anaconda3\\lib\\asyncio\\base_events.py\", line 603, in run_forever\n",
      "    self._run_once()\n",
      "  File \"C:\\Users\\yenit\\anaconda3\\lib\\asyncio\\base_events.py\", line 1906, in _run_once\n",
      "    handle._run()\n",
      "  File \"C:\\Users\\yenit\\anaconda3\\lib\\asyncio\\events.py\", line 80, in _run\n",
      "    self._context.run(self._callback, *self._args)\n",
      "  File \"C:\\Users\\yenit\\anaconda3\\lib\\site-packages\\ipykernel\\kernelbase.py\", line 510, in dispatch_queue\n",
      "    await self.process_one()\n",
      "  File \"C:\\Users\\yenit\\anaconda3\\lib\\site-packages\\ipykernel\\kernelbase.py\", line 499, in process_one\n",
      "    await dispatch(*args)\n",
      "  File \"C:\\Users\\yenit\\anaconda3\\lib\\site-packages\\ipykernel\\kernelbase.py\", line 406, in dispatch_shell\n",
      "    await result\n",
      "  File \"C:\\Users\\yenit\\anaconda3\\lib\\site-packages\\ipykernel\\kernelbase.py\", line 729, in execute_request\n",
      "    reply_content = await reply_content\n",
      "  File \"C:\\Users\\yenit\\anaconda3\\lib\\site-packages\\ipykernel\\ipkernel.py\", line 411, in do_execute\n",
      "    res = shell.run_cell(\n",
      "  File \"C:\\Users\\yenit\\anaconda3\\lib\\site-packages\\ipykernel\\zmqshell.py\", line 531, in run_cell\n",
      "    return super().run_cell(*args, **kwargs)\n",
      "  File \"C:\\Users\\yenit\\anaconda3\\lib\\site-packages\\IPython\\core\\interactiveshell.py\", line 2961, in run_cell\n",
      "    result = self._run_cell(\n",
      "  File \"C:\\Users\\yenit\\anaconda3\\lib\\site-packages\\IPython\\core\\interactiveshell.py\", line 3016, in _run_cell\n",
      "    result = runner(coro)\n",
      "  File \"C:\\Users\\yenit\\anaconda3\\lib\\site-packages\\IPython\\core\\async_helpers.py\", line 129, in _pseudo_sync_runner\n",
      "    coro.send(None)\n",
      "  File \"C:\\Users\\yenit\\anaconda3\\lib\\site-packages\\IPython\\core\\interactiveshell.py\", line 3221, in run_cell_async\n",
      "    has_raised = await self.run_ast_nodes(code_ast.body, cell_name,\n",
      "  File \"C:\\Users\\yenit\\anaconda3\\lib\\site-packages\\IPython\\core\\interactiveshell.py\", line 3400, in run_ast_nodes\n",
      "    if await self.run_code(code, result, async_=asy):\n",
      "  File \"C:\\Users\\yenit\\anaconda3\\lib\\site-packages\\IPython\\core\\interactiveshell.py\", line 3460, in run_code\n",
      "    exec(code_obj, self.user_global_ns, self.user_ns)\n",
      "  File \"C:\\Users\\yenit\\AppData\\Local\\Temp\\ipykernel_21020\\1858344698.py\", line 19, in <module>\n",
      "    logger.error(\"This is a error message\")\n",
      "Message: 'This is a error message'\n",
      "Arguments: ()\n"
     ]
    }
   ],
   "source": [
    "#11. Create a Python program that logs an error message to the console and a file named \"errors.log\" if an exception \n",
    "#occurs during the program's execution. The error message should include the exception type and a timestamp.\n",
    "import logging\n",
    "\n",
    "logger = logging.getLogger(__name__)\n",
    "logger.setLevel(logging.DEBUG)\n",
    "\n",
    "file_handler = logging.FileHandler('errors.log')\n",
    "file_handler.setLevel(logging.ERROR)\n",
    "\n",
    "stream_handler = logging.StreamHandler('errors.log')\n",
    "stream_handler.setLevel(logging.ERROR)\n",
    "\n",
    "formatter = logging.Formatter('%(asctime)s - %(name)s - %(message)s')\n",
    "file_handler.setFormatter(formatter)\n",
    "stream_handler.setFormatter(formatter)\n",
    "\n",
    "logger.addHandler(file_handler)\n",
    "logger.addHandler(stream_handler)\n",
    "\n",
    "logger.error(\"This is a error message\")"
   ]
  },
  {
   "cell_type": "code",
   "execution_count": null,
   "id": "10a7d161",
   "metadata": {},
   "outputs": [],
   "source": []
  },
  {
   "cell_type": "code",
   "execution_count": null,
   "id": "882b9feb",
   "metadata": {},
   "outputs": [],
   "source": []
  },
  {
   "cell_type": "code",
   "execution_count": null,
   "id": "eb9df59d",
   "metadata": {},
   "outputs": [],
   "source": []
  },
  {
   "cell_type": "code",
   "execution_count": null,
   "id": "09444784",
   "metadata": {},
   "outputs": [],
   "source": []
  },
  {
   "cell_type": "code",
   "execution_count": null,
   "id": "3eb3d992",
   "metadata": {},
   "outputs": [],
   "source": []
  }
 ],
 "metadata": {
  "kernelspec": {
   "display_name": "Python 3 (ipykernel)",
   "language": "python",
   "name": "python3"
  },
  "language_info": {
   "codemirror_mode": {
    "name": "ipython",
    "version": 3
   },
   "file_extension": ".py",
   "mimetype": "text/x-python",
   "name": "python",
   "nbconvert_exporter": "python",
   "pygments_lexer": "ipython3",
   "version": "3.10.9"
  }
 },
 "nbformat": 4,
 "nbformat_minor": 5
}
