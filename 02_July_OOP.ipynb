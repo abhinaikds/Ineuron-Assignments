{
 "cells": [
  {
   "cell_type": "code",
   "execution_count": null,
   "id": "78f72783",
   "metadata": {},
   "outputs": [],
   "source": [
    "#1. Explain what inheritance is in object-oriented programming and why it is used.\n",
    "#Instead creating a sepearate class with new attributes and methods, we are creating a new class with existing attributes or \n",
    "#methods of parent class"
   ]
  },
  {
   "cell_type": "code",
   "execution_count": 27,
   "id": "25da0b3a",
   "metadata": {
    "scrolled": true
   },
   "outputs": [
    {
     "data": {
      "text/plain": [
       "'a.In single inheritance, a class inherits from only one superclass.\\nadvantages: Simplicity,Avoids Diamond Problem\\ndisadvantages:Limited Reusability\\n    \\n# multiple inheritance\\na.In multiple inheritance, a class can inherit from more than one superclass. This allows a subclass to inherit attributes \\nand methods from multiple parents\\nadvantages:Increased Reusability,Flexibility\\nDisadvantages:Diamond Problem,Complexity,Performance Overheads'"
      ]
     },
     "execution_count": 27,
     "metadata": {},
     "output_type": "execute_result"
    }
   ],
   "source": [
    "#2. Discuss the concept of single inheritance and multiple inheritance, highlighting their differences and advantages.\n",
    "\n",
    "#single inheritance\n",
    "\"\"\"a.In single inheritance, a class inherits from only one superclass.\n",
    "advantages: Simplicity,Avoids Diamond Problem\n",
    "disadvantages:Limited Reusability\n",
    "    \n",
    "# multiple inheritance\n",
    "a.In multiple inheritance, a class can inherit from more than one superclass. This allows a subclass to inherit attributes \n",
    "and methods from multiple parents\n",
    "advantages:Increased Reusability,Flexibility\n",
    "Disadvantages:Diamond Problem,Complexity,Performance Overheads\"\"\""
   ]
  },
  {
   "cell_type": "code",
   "execution_count": null,
   "id": "fd6e809a",
   "metadata": {},
   "outputs": [],
   "source": [
    "#3 Explain the terms \"base class\" and \"derived class\" in the context of inheritance.\n",
    "#Base class is also called the parent class or superclass,it is more geneic one compared to derived class\n",
    "#derived class are the classes with inherited attributes or inherited methods from base class. "
   ]
  },
  {
   "cell_type": "code",
   "execution_count": null,
   "id": "277ce1c8",
   "metadata": {},
   "outputs": [],
   "source": [
    "\"\"\"\"4.protected\" access modifier in inheritance? How does it differ from \"private\" and \"public\" modifiers?\n",
    "protected class:\n",
    "    The attributes and methods of superclass can only be accessed from child class.\n",
    "Public modifiers:\n",
    "    The attributes and methods of superclass can be accessed from any part of the program\n",
    "private modifiers:\n",
    "        The attributes and methods of superclass can only be accessed from current superclass.\"\"\""
   ]
  },
  {
   "cell_type": "code",
   "execution_count": null,
   "id": "0700adf1",
   "metadata": {},
   "outputs": [],
   "source": [
    "#5. What is the purpose of the \"super\" keyword in inheritance? Provide an example.\n",
    "#it fetches the attributes and methods of superclass.\n",
    "\n",
    "class student(Person):\n",
    "    def __init__(self,name,grade):\n",
    "        super().__init__(name)\n",
    "        self.grade=grade\n",
    "        \n",
    "    def display_info(self):\n",
    "        super().display_info()\n",
    "        print(f'The Grade is {self.grade}')"
   ]
  },
  {
   "cell_type": "code",
   "execution_count": null,
   "id": "3b4ecb49",
   "metadata": {},
   "outputs": [],
   "source": [
    "\"\"\"6. Create a base class called \"Vehicle\" with attributes like \"make\", \"model\", and \"year\".\n",
    "Then, create a derived class called \"Car\" that inherits from \"Vehicle\" and adds an\n",
    "attribute called \"fuel_type\". Implement appropriate methods in both classes.\"\"\""
   ]
  },
  {
   "cell_type": "code",
   "execution_count": 34,
   "id": "f93c98cf",
   "metadata": {},
   "outputs": [],
   "source": [
    "class Vechile:\n",
    "    def __init__(self,make,model,year):\n",
    "        self.make=make\n",
    "        self.model=model\n",
    "        self.year=year\n",
    "        \n",
    "    def start(self):\n",
    "        print(f'the Vechile of make {self.make} starts')\n",
    "        "
   ]
  },
  {
   "cell_type": "code",
   "execution_count": 38,
   "id": "2365203a",
   "metadata": {},
   "outputs": [],
   "source": [
    "class Car(Vechile):\n",
    "    def __init__(self,make,model,year,fuel_type):\n",
    "        super().__init__(make,model,year)\n",
    "        self.fuel_type=fuel_type\n",
    "        \n",
    "    def start(self):\n",
    "        super().start()\n",
    "        print(f'the car fuel type is {self.fuel_type} ')\n",
    "    "
   ]
  },
  {
   "cell_type": "code",
   "execution_count": 39,
   "id": "303e4eaa",
   "metadata": {},
   "outputs": [],
   "source": [
    "car1=Car(\"maruti suzuki\",\"alto\",2014,\"petrol\")"
   ]
  },
  {
   "cell_type": "code",
   "execution_count": 40,
   "id": "ecddb750",
   "metadata": {},
   "outputs": [
    {
     "name": "stdout",
     "output_type": "stream",
     "text": [
      "the Vechile of make maruti suzuki starts\n",
      "the car fuel type is petrol \n"
     ]
    }
   ],
   "source": [
    "car1.start()"
   ]
  },
  {
   "cell_type": "code",
   "execution_count": null,
   "id": "df52cfaa",
   "metadata": {},
   "outputs": [],
   "source": [
    "\"\"\"7. Create a base class called \"Employee\" with attributes like \"name\" and \"salary.\"\n",
    "Derive two classes, \"Manager\" and \"Developer,\" from \"Employee.\" Add an additional\n",
    "attribute called \"department\" for the \"Manager\" class and \"programming_language\"\n",
    "for the \"Developer\" class.\"\"\""
   ]
  },
  {
   "cell_type": "code",
   "execution_count": 41,
   "id": "e206f33a",
   "metadata": {},
   "outputs": [],
   "source": [
    "class Employee:\n",
    "    def __init__(self,name,salary):\n",
    "        self.name=name\n",
    "        self.salary=salary\n",
    "        \n",
    "    "
   ]
  },
  {
   "cell_type": "code",
   "execution_count": 42,
   "id": "1e22a79d",
   "metadata": {},
   "outputs": [],
   "source": [
    "class Manager(Employee):\n",
    "    def __init__(self,name,salary,department):\n",
    "        super().__init__(name,salary)\n",
    "        self.department=department\n",
    "        "
   ]
  },
  {
   "cell_type": "code",
   "execution_count": 43,
   "id": "120f9a5c",
   "metadata": {},
   "outputs": [],
   "source": [
    "class Developer(Employee):\n",
    "    def __init__(self,name,salary,programming_language):\n",
    "        super().__init__(name,salary)\n",
    "        self.programming_language=programming_language"
   ]
  },
  {
   "cell_type": "code",
   "execution_count": 46,
   "id": "ca8b6bf4",
   "metadata": {},
   "outputs": [],
   "source": [
    "abhi=Developer(\"abhishek\",20000,\"python\")"
   ]
  },
  {
   "cell_type": "code",
   "execution_count": 48,
   "id": "499113f2",
   "metadata": {},
   "outputs": [
    {
     "data": {
      "text/plain": [
       "20000"
      ]
     },
     "execution_count": 48,
     "metadata": {},
     "output_type": "execute_result"
    }
   ],
   "source": [
    "abhi.salary"
   ]
  },
  {
   "cell_type": "code",
   "execution_count": null,
   "id": "bb656f07",
   "metadata": {},
   "outputs": [],
   "source": [
    "\"\"\"8. Design a base class called \"Shape\" with attributes like \"colour\" and \"border_width.\"\n",
    "Create derived classes, \"Rectangle\" and \"Circle,\" that inherit from \"Shape\" and add\n",
    "specific attributes like \"length\" and \"width\" for the \"Rectangle\" class and \"radius\" for\n",
    "the \"Circle\" class.\"\"\""
   ]
  },
  {
   "cell_type": "code",
   "execution_count": 49,
   "id": "78a21de5",
   "metadata": {},
   "outputs": [],
   "source": [
    "class Shape:\n",
    "    def __init__(self,colour,border_width):\n",
    "        self.colour=colour\n",
    "        self.border_width=border_width\n",
    "    "
   ]
  },
  {
   "cell_type": "code",
   "execution_count": 51,
   "id": "d488f6ee",
   "metadata": {},
   "outputs": [],
   "source": [
    "class Rectangle(Shape):\n",
    "    def __init__(self,colour,border_width,length,width):\n",
    "        super().__init__(colour,border_width)\n",
    "        self.length=length\n",
    "        self.width=width"
   ]
  },
  {
   "cell_type": "code",
   "execution_count": 53,
   "id": "081c5a1f",
   "metadata": {},
   "outputs": [],
   "source": [
    "class Circle(Shape):\n",
    "    def __init__(self,colour,border_width,radius):\n",
    "        super().__init__(colour,border_width)\n",
    "        self.length=length\n",
    "        self.radius=radius"
   ]
  },
  {
   "cell_type": "code",
   "execution_count": null,
   "id": "dc1b302c",
   "metadata": {},
   "outputs": [],
   "source": [
    "\"\"\"9. Create a base class called \"Device\" with attributes like \"brand\" and \"model.\" Derive\n",
    "two classes, \"Phone\" and \"Tablet,\" from \"Device.\" Add specific attributes like\n",
    "\"screen_size\" for the \"Phone\" class and \"battery_capacity\" for the \"Tablet\" class.\"\"\""
   ]
  },
  {
   "cell_type": "code",
   "execution_count": 54,
   "id": "83553315",
   "metadata": {},
   "outputs": [],
   "source": [
    "class Device:\n",
    "    def __init__(self,brand,model):\n",
    "        self.brand=brand\n",
    "        self.model=model"
   ]
  },
  {
   "cell_type": "code",
   "execution_count": 56,
   "id": "acddd726",
   "metadata": {},
   "outputs": [],
   "source": [
    "class Phone(Device):\n",
    "    def __init__(self,brand,model,screen_size):\n",
    "        super().__init__(brand,model)\n",
    "        self.screen_size=screen_size\n"
   ]
  },
  {
   "cell_type": "code",
   "execution_count": 57,
   "id": "62fc1632",
   "metadata": {},
   "outputs": [],
   "source": [
    "class Tablet(Device):\n",
    "    def __init__(self,brand,model,battery_capacity):\n",
    "        super().__init__(model,model)\n",
    "        self.battery_capacity=battery_capacity"
   ]
  },
  {
   "cell_type": "code",
   "execution_count": null,
   "id": "68f986b0",
   "metadata": {},
   "outputs": [],
   "source": [
    "\"\"\"10. Create a base class called \"BankAccount\" with attributes like \"account_number\" and\n",
    "\"balance.\" Derive two classes, \"SavingsAccount\" and \"CheckingAccount,\" from\n",
    "\"BankAccount.\" Add specific methods like \"calculate_interest\" for the\n",
    "\"SavingsAccount\" class and \"deduct_fees\" for the \"CheckingAccount\" class.\"\"\""
   ]
  },
  {
   "cell_type": "code",
   "execution_count": 61,
   "id": "7b7809b7",
   "metadata": {},
   "outputs": [],
   "source": [
    "class BankAccount:\n",
    "    def __init__(self,account_number,balance):\n",
    "        self.account_number=account_number\n",
    "        self.balance=balance"
   ]
  },
  {
   "cell_type": "code",
   "execution_count": 62,
   "id": "64635cc5",
   "metadata": {},
   "outputs": [],
   "source": [
    "class SavingsAccount(BankAccount):\n",
    "    def __init__(self,account_number,balance):\n",
    "        super().__init__(account_number,balance)\n",
    "        \n",
    "    def calculate_interest(self):\n",
    "        print(f'the calculated intrest is {self.balance*.1}')\n",
    "        "
   ]
  },
  {
   "cell_type": "code",
   "execution_count": 63,
   "id": "b073aecb",
   "metadata": {},
   "outputs": [],
   "source": [
    "class CheckingAccount(BankAccount):\n",
    "    def __init__(self,account_number,balance):\n",
    "        super().__init__(account_number,balance)\n",
    "        \n",
    "    def deduct_fees(self):\n",
    "        print(f'the fees deducted is {self.balance*1}')\n",
    "        \n",
    "    "
   ]
  },
  {
   "cell_type": "code",
   "execution_count": null,
   "id": "11af3bee",
   "metadata": {},
   "outputs": [],
   "source": []
  }
 ],
 "metadata": {
  "kernelspec": {
   "display_name": "Python 3 (ipykernel)",
   "language": "python",
   "name": "python3"
  },
  "language_info": {
   "codemirror_mode": {
    "name": "ipython",
    "version": 3
   },
   "file_extension": ".py",
   "mimetype": "text/x-python",
   "name": "python",
   "nbconvert_exporter": "python",
   "pygments_lexer": "ipython3",
   "version": "3.10.9"
  }
 },
 "nbformat": 4,
 "nbformat_minor": 5
}
