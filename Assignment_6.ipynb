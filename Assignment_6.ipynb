{
 "cells": [
  {
   "cell_type": "code",
   "execution_count": 8,
   "id": "00e210c8",
   "metadata": {},
   "outputs": [
    {
     "name": "stdout",
     "output_type": "stream",
     "text": [
      "First variable is 2 & second variable is 3\n",
      "Addition : 2 + 3 = 5\n",
      "Subtraction : 2 - 3 = -1\n",
      "Multiplication : 2 * 3 = 6\n",
      "Division : 2  / 3 = 0.6666666666666666\n"
     ]
    }
   ],
   "source": [
    "#1\n",
    "a=2\n",
    "b=3\n",
    "add=a+b\n",
    "sub=a-b\n",
    "mul=a*b\n",
    "div=a/b\n",
    "print(f'First variable is {a} & second variable is {b}')\n",
    "print(f\"Addition : {a} + {b} = {add}\")\n",
    "print(f\"Subtraction : {a} - {b} = {sub}\")\n",
    "print(f\"Multiplication : {a} * {b} = {mul}\")\n",
    "print(f\"Division : {a}  / {b} = {div}\")"
   ]
  },
  {
   "cell_type": "code",
   "execution_count": null,
   "id": "d5d5cd12",
   "metadata": {},
   "outputs": [],
   "source": [
    "#2\n",
    "i. ‘/’ is divide, // is floor division\n",
    "ii. ** refers to square and ^ means xor"
   ]
  },
  {
   "cell_type": "code",
   "execution_count": null,
   "id": "922b6814",
   "metadata": {},
   "outputs": [],
   "source": [
    "#3\n",
    "&,|,^,not"
   ]
  },
  {
   "cell_type": "code",
   "execution_count": null,
   "id": "e7f51934",
   "metadata": {},
   "outputs": [],
   "source": [
    "#4\n",
    "4>>1(shifts the bits to the right in steps of 1)\n",
    "4<<1(shifts the bits to the left in steps of 1)"
   ]
  },
  {
   "cell_type": "code",
   "execution_count": 29,
   "id": "2a092cb5",
   "metadata": {},
   "outputs": [
    {
     "name": "stdout",
     "output_type": "stream",
     "text": [
      "'10' is present in the list\n"
     ]
    }
   ],
   "source": [
    "#5\n",
    "l=[1,2,3,4,5,6,7,8,9,10,11,12,13,14,15]\n",
    "for i in range(len(l)):\n",
    "    if l[i]==10:\n",
    "        print(\"'10' is present in the list\")\n"
   ]
  },
  {
   "cell_type": "code",
   "execution_count": null,
   "id": "41012c71",
   "metadata": {},
   "outputs": [],
   "source": []
  }
 ],
 "metadata": {
  "kernelspec": {
   "display_name": "Python 3 (ipykernel)",
   "language": "python",
   "name": "python3"
  },
  "language_info": {
   "codemirror_mode": {
    "name": "ipython",
    "version": 3
   },
   "file_extension": ".py",
   "mimetype": "text/x-python",
   "name": "python",
   "nbconvert_exporter": "python",
   "pygments_lexer": "ipython3",
   "version": "3.10.9"
  }
 },
 "nbformat": 4,
 "nbformat_minor": 5
}
